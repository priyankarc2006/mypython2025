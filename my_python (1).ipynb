{
  "nbformat": 4,
  "nbformat_minor": 0,
  "metadata": {
    "colab": {
      "provenance": []
    },
    "kernelspec": {
      "name": "python3",
      "display_name": "Python 3"
    },
    "language_info": {
      "name": "python"
    }
  },
  "cells": [
    {
      "cell_type": "code",
      "execution_count": 1,
      "metadata": {
        "colab": {
          "base_uri": "https://localhost:8080/"
        },
        "id": "kZn846hfbJeG",
        "outputId": "96f150aa-fa5f-4f20-8ef6-b8d373b9cbb1"
      },
      "outputs": [
        {
          "output_type": "stream",
          "name": "stdout",
          "text": [
            "Hello, Alice!\n",
            "Hello, stranger!\n"
          ]
        }
      ],
      "source": [
        "def greet(name):\n",
        "    if name:\n",
        "        print(f\"Hello, {name}!\")\n",
        "    else:\n",
        "        print(\"Hello, stranger!\")\n",
        "\n",
        "greet(\"Alice\")  # Calls the function with a name\n",
        "greet(\"\")       # Calls the function without a name\n"
      ]
    }
  ]
}